{
 "cells": [
  {
   "cell_type": "markdown",
   "metadata": {},
   "source": [
    "# Resize Kaggle data set for training"
   ]
  },
  {
   "cell_type": "markdown",
   "metadata": {},
   "source": [
    "Dataset from: https://www.kaggle.com/datasets/akhileshdkapse/super-image-resolution\n",
    "\n",
    "Here, we are resizing them to 128x128 that will be  used as HR images and\n",
    "32x32 that will be used as LR images"
   ]
  },
  {
   "cell_type": "code",
   "execution_count": 1,
   "metadata": {},
   "outputs": [],
   "source": [
    "import cv2\n",
    "import numpy as np\n",
    "import os\n",
    "import matplotlib.pyplot as plt"
   ]
  },
  {
   "cell_type": "code",
   "execution_count": 4,
   "metadata": {},
   "outputs": [],
   "source": [
    "train_dir = \"../raw_data/Kaggle100\""
   ]
  },
  {
   "cell_type": "code",
   "execution_count": 5,
   "metadata": {},
   "outputs": [],
   "source": [
    "for img in os.listdir( train_dir + \"/LR\"):\n",
    "    lr_img_array = cv2.imread(train_dir + \"/LR/\" + img)\n",
    "    lr_img_array = cv2.resize(lr_img_array,(32,32))\n",
    "    cv2.imwrite(train_dir+ \"/lr_images/\"+ img, lr_img_array)"
   ]
  },
  {
   "cell_type": "code",
   "execution_count": null,
   "metadata": {},
   "outputs": [],
   "source": [
    "for img in os.listdir( train_dir + \"/HR\"):\n",
    "    hr_img_array = cv2.imread(train_dir + \"/HR/\" + img)\n",
    "    hr_img_array = cv2.resize(hr_img_array,(128,128))\n",
    "    cv2.imwrite(train_dir+ \"/hr_images/\" + img, hr_img_array)"
   ]
  }
 ],
 "metadata": {
  "kernelspec": {
   "display_name": "Python 3.8.12 64-bit ('upscaling')",
   "language": "python",
   "name": "python3"
  },
  "language_info": {
   "codemirror_mode": {
    "name": "ipython",
    "version": 3
   },
   "file_extension": ".py",
   "mimetype": "text/x-python",
   "name": "python",
   "nbconvert_exporter": "python",
   "pygments_lexer": "ipython3",
   "version": "3.8.12"
  },
  "orig_nbformat": 4,
  "vscode": {
   "interpreter": {
    "hash": "8fa11a9c7a7487289116fee60aa5fa0830195f07c5cba8029f54fbf5e91ee7e1"
   }
  }
 },
 "nbformat": 4,
 "nbformat_minor": 2
}
