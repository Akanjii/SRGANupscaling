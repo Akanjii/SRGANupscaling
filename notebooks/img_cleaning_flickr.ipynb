{
 "cells": [
  {
   "cell_type": "markdown",
   "metadata": {},
   "source": [
    "# Clean image dataset and convert to low res and high res for training"
   ]
  },
  {
   "cell_type": "markdown",
   "metadata": {},
   "source": [
    "Dataset from: http://press.liacs.nl/mirflickr/mirdownload.html\n",
    "\n",
    "Read high res. original images and save lower versions to be used for SRGAN.\n",
    "\n",
    "Here, we are resizing them to 128x128 that will be  used as HR images and\n",
    "32x32 that will be used as LR images"
   ]
  },
  {
   "cell_type": "code",
   "execution_count": 1,
   "metadata": {},
   "outputs": [],
   "source": [
    "import cv2\n",
    "import numpy as np\n",
    "import os\n",
    "import matplotlib.pyplot as plt"
   ]
  },
  {
   "cell_type": "markdown",
   "metadata": {},
   "source": [
    "### Root directory of raw images and target train test images:\n",
    "\n",
    "- original_images: raw images to be cleaned\n",
    "- lr_images: source images for super resolution\n",
    "- hr_images: target high resolution images"
   ]
  },
  {
   "cell_type": "code",
   "execution_count": 2,
   "metadata": {},
   "outputs": [],
   "source": [
    "train_dir = \"../raw_data/Flickr\""
   ]
  },
  {
   "cell_type": "markdown",
   "metadata": {},
   "source": [
    "### Code to clean images and resize them"
   ]
  },
  {
   "cell_type": "code",
   "execution_count": 6,
   "metadata": {},
   "outputs": [],
   "source": [
    "for img in os.listdir( train_dir + \"/original_images\"):\n",
    "    img_array = cv2.imread(train_dir + \"/original_images/\" + img)\n",
    "    xxx=img\n",
    "    img_array = cv2.resize(img_array, (128,128))\n",
    "    lr_img_array = cv2.resize(img_array,(32,32))\n",
    "    cv2.imwrite(train_dir+ \"/hr_images/\" + img, img_array)\n",
    "    cv2.imwrite(train_dir+ \"/lr_images/\"+ img, lr_img_array)"
   ]
  }
 ],
 "metadata": {
  "kernelspec": {
   "display_name": "Python 3.8.12 64-bit ('upscaling')",
   "language": "python",
   "name": "python3"
  },
  "language_info": {
   "codemirror_mode": {
    "name": "ipython",
    "version": 3
   },
   "file_extension": ".py",
   "mimetype": "text/x-python",
   "name": "python",
   "nbconvert_exporter": "python",
   "pygments_lexer": "ipython3",
   "version": "3.8.12"
  },
  "orig_nbformat": 4,
  "vscode": {
   "interpreter": {
    "hash": "8fa11a9c7a7487289116fee60aa5fa0830195f07c5cba8029f54fbf5e91ee7e1"
   }
  }
 },
 "nbformat": 4,
 "nbformat_minor": 2
}
