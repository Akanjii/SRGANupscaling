{
 "cells": [
  {
   "cell_type": "markdown",
   "metadata": {},
   "source": [
    "<h1>Splitting an image into tiles in Python using NumPy</h1>"
   ]
  },
  {
   "cell_type": "code",
   "execution_count": 4,
   "metadata": {},
   "outputs": [],
   "source": [
    "from PIL import Image\n",
    "import numpy as np\n",
    "import cv2\n",
    "\n",
    "image = Image.open(\"images/1.jpg\")"
   ]
  },
  {
   "cell_type": "markdown",
   "metadata": {},
   "source": [
    "<h3> install opencv </h3>"
   ]
  },
  {
   "cell_type": "code",
   "execution_count": 5,
   "metadata": {},
   "outputs": [],
   "source": [
    "# pip install opencv-python"
   ]
  },
  {
   "cell_type": "markdown",
   "metadata": {},
   "source": [
    "<h3> convert image to array for manipulation </h3>"
   ]
  },
  {
   "cell_type": "code",
   "execution_count": 6,
   "metadata": {},
   "outputs": [],
   "source": [
    "# image = np.asarray(image)\n",
    "image = cv2.imread(\"images/1.jpg\")"
   ]
  },
  {
   "cell_type": "markdown",
   "metadata": {},
   "source": [
    "<h3> exploring our image’s dimensions </h3>"
   ]
  },
  {
   "cell_type": "code",
   "execution_count": 7,
   "metadata": {},
   "outputs": [
    {
     "data": {
      "text/plain": [
       "(5472, 3648, 3)"
      ]
     },
     "execution_count": 7,
     "metadata": {},
     "output_type": "execute_result"
    }
   ],
   "source": [
    "image.shape"
   ]
  },
  {
   "cell_type": "code",
   "execution_count": 8,
   "metadata": {},
   "outputs": [
    {
     "data": {
      "text/plain": [
       "array([[[196, 207, 205],\n",
       "        [196, 207, 205],\n",
       "        [196, 207, 205],\n",
       "        ...,\n",
       "        [199, 207, 206],\n",
       "        [201, 209, 208],\n",
       "        [202, 210, 209]],\n",
       "\n",
       "       [[197, 208, 206],\n",
       "        [197, 208, 206],\n",
       "        [197, 208, 206],\n",
       "        ...,\n",
       "        [199, 207, 206],\n",
       "        [201, 209, 208],\n",
       "        [202, 210, 209]],\n",
       "\n",
       "       [[197, 208, 206],\n",
       "        [197, 208, 206],\n",
       "        [197, 208, 206],\n",
       "        ...,\n",
       "        [199, 207, 206],\n",
       "        [201, 209, 208],\n",
       "        [202, 210, 209]],\n",
       "\n",
       "       ...,\n",
       "\n",
       "       [[128, 150, 161],\n",
       "        [134, 156, 167],\n",
       "        [137, 159, 170],\n",
       "        ...,\n",
       "        [197, 208, 206],\n",
       "        [197, 208, 206],\n",
       "        [197, 208, 206]],\n",
       "\n",
       "       [[128, 150, 161],\n",
       "        [135, 157, 168],\n",
       "        [138, 160, 171],\n",
       "        ...,\n",
       "        [197, 208, 206],\n",
       "        [198, 209, 207],\n",
       "        [198, 209, 207]],\n",
       "\n",
       "       [[136, 158, 169],\n",
       "        [139, 161, 172],\n",
       "        [138, 160, 171],\n",
       "        ...,\n",
       "        [199, 210, 208],\n",
       "        [200, 211, 209],\n",
       "        [200, 211, 209]]], dtype=uint8)"
      ]
     },
     "execution_count": 8,
     "metadata": {},
     "output_type": "execute_result"
    }
   ],
   "source": [
    "image"
   ]
  },
  {
   "cell_type": "markdown",
   "metadata": {},
   "source": [
    "<h3>check that array can be converted back to an image</h3>"
   ]
  },
  {
   "cell_type": "code",
   "execution_count": 9,
   "metadata": {},
   "outputs": [],
   "source": [
    "image_temp= cv2.imwrite(\"tempimage.jpg\" , image)"
   ]
  },
  {
   "cell_type": "code",
   "execution_count": 10,
   "metadata": {},
   "outputs": [
    {
     "ename": "SyntaxError",
     "evalue": "invalid syntax (1350005948.py, line 10)",
     "output_type": "error",
     "traceback": [
      "\u001b[0;36m  File \u001b[0;32m\"/var/folders/y_/fcg2rlnj27n78cfgx5g39nv40000gn/T/ipykernel_29895/1350005948.py\"\u001b[0;36m, line \u001b[0;32m10\u001b[0m\n\u001b[0;31m    best_dim = {j:i in for j in range(30,100)}\u001b[0m\n\u001b[0m                       ^\u001b[0m\n\u001b[0;31mSyntaxError\u001b[0m\u001b[0;31m:\u001b[0m invalid syntax\n"
     ]
    }
   ],
   "source": [
    "list = [20,21,22,23,24,25,26,27,28,29,30]\n",
    "possible_dimensions = []\n",
    "for i in range(30,100):\n",
    "    possible_dimensions.append(f\"i: image.shape[0] % i\")\n",
    "    \n",
    "\n",
    "possible_dimensions \n",
    "\n",
    "for i in possible_dimensions: \n",
    "    best_dim = {j:i in for j in range(30,100)}\n",
    "\n",
    "# best_dim"
   ]
  },
  {
   "cell_type": "code",
   "execution_count": null,
   "metadata": {},
   "outputs": [],
   "source": [
    "# list2 = [20,21,22,23,24,25,26,27,28,29,30]\n",
    "# possible_dimensions2 = []\n",
    "# for i in list2:\n",
    "#     possible_dimensions2.append(image.shape[1] % i)\n",
    "    \n",
    "\n",
    "# possible_dimensions2 \n",
    "\n",
    "# best_dim2 = {list2[i]: possible_dimensions2[i] for i in range(len(list2))}\n",
    "\n",
    "# best_dim2\n",
    "\n",
    "# best_tile_height = []\n",
    "# for x, y in best_dim2.items():\n",
    "#   if y == 0:\n",
    "#       best_tile_height.append(x)\n",
    "\n"
   ]
  },
  {
   "cell_type": "code",
   "execution_count": null,
   "metadata": {},
   "outputs": [],
   "source": [
    "# import matplotlib.pyplot as plt\n",
    "# from time import time\n",
    "# from sys import argv\n",
    "\n",
    "# def _time(f):\n",
    "#     def wrapper(*args):\n",
    "#         start = time()\n",
    "#         r = f(*args)\n",
    "#         end=time()\n",
    "#         print(\"%s timed %f\" % (f.__name__,end-start) )\n",
    "#         return r\n",
    "#     return wrapper"
   ]
  },
  {
   "cell_type": "code",
   "execution_count": null,
   "metadata": {},
   "outputs": [
    {
     "data": {
      "text/plain": [
       "(5472, 3648, 3)"
      ]
     },
     "execution_count": 126,
     "metadata": {},
     "output_type": "execute_result"
    }
   ],
   "source": [
    "image.shape"
   ]
  },
  {
   "cell_type": "markdown",
   "metadata": {},
   "source": [
    "<h3>after exploration we can see they are divisible by 24 and 24 accordingly, so thats why i chose to use these for our tile-size.</h3>"
   ]
  },
  {
   "cell_type": "code",
   "execution_count": 11,
   "metadata": {},
   "outputs": [],
   "source": [
    "img = np.asarray(Image.open(\"images/1.jpg\"))\n",
    "\n",
    "# t1, t2 = (argv[1], argv[2])\n",
    "\n",
    "def reshape_split(image: np.ndarray, kernel_size: tuple):\n",
    "\n",
    "    img_height, img_width, channels = image.shape\n",
    "    tile_height, tile_width = kernel_size\n",
    "\n",
    "    tiled_array = image.reshape(img_height // tile_height,\n",
    "                                tile_height,\n",
    "                                img_width // tile_width,\n",
    "                                tile_width,\n",
    "                                channels)\n",
    "    tiled_array = tiled_array.swapaxes(1, 2)\n",
    "    return tiled_array.reshape(img_height // tile_height * img_width // tile_width, tile_height, tile_width, channels)\n",
    "\n",
    "\n",
    "tilesize = (24, 24)\n",
    "\n",
    "tiles = reshape_split(img, tilesize)\n",
    "\n"
   ]
  },
  {
   "cell_type": "code",
   "execution_count": 13,
   "metadata": {},
   "outputs": [
    {
     "data": {
      "text/plain": [
       "(228, 152, 24, 24, 3)"
      ]
     },
     "execution_count": 13,
     "metadata": {},
     "output_type": "execute_result"
    }
   ],
   "source": [
    "tiles.shape"
   ]
  },
  {
   "cell_type": "code",
   "execution_count": null,
   "metadata": {},
   "outputs": [],
   "source": [
    "[[206, 208, 197],\n",
    "          [206, 208, 197],\n",
    "          [206, 208, 197],\n",
    "          ...,\n",
    "          [206, 208, 197],\n",
    "          [206, 208, 197],\n",
    "          [207, 209, 198]],\n"
   ]
  },
  {
   "cell_type": "code",
   "execution_count": null,
   "metadata": {},
   "outputs": [
    {
     "data": {
      "text/plain": [
       "(228, 152, 24, 24, 3)"
      ]
     },
     "execution_count": 129,
     "metadata": {},
     "output_type": "execute_result"
    }
   ],
   "source": [
    "tiles.shape"
   ]
  },
  {
   "cell_type": "code",
   "execution_count": null,
   "metadata": {},
   "outputs": [
    {
     "data": {
      "text/plain": [
       "True"
      ]
     },
     "execution_count": 98,
     "metadata": {},
     "output_type": "execute_result"
    }
   ],
   "source": [
    "tile_temp= cv2.imwrite(\"temptile.jpg\" , image )\n",
    "tile_temp"
   ]
  },
  {
   "cell_type": "code",
   "execution_count": null,
   "metadata": {},
   "outputs": [],
   "source": [
    " tile_merge = tiled_arr.reshape(-1, *(24,24))"
   ]
  }
 ],
 "metadata": {
  "kernelspec": {
   "display_name": "Python 3.8.12 64-bit ('shims')",
   "language": "python",
   "name": "python3"
  },
  "language_info": {
   "codemirror_mode": {
    "name": "ipython",
    "version": 3
   },
   "file_extension": ".py",
   "mimetype": "text/x-python",
   "name": "python",
   "nbconvert_exporter": "python",
   "pygments_lexer": "ipython3",
   "version": "3.8.12"
  },
  "orig_nbformat": 4,
  "vscode": {
   "interpreter": {
    "hash": "a0ab43b85f696ec66036a12edcf13637b67bb0d9d3769cc087f823f01afcc05c"
   }
  }
 },
 "nbformat": 4,
 "nbformat_minor": 2
}
